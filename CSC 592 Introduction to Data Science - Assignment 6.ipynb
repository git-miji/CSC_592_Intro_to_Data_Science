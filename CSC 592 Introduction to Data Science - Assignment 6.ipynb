{
 "cells": [
  {
   "cell_type": "markdown",
   "metadata": {
    "id": "Wiva01oV_Jaj"
   },
   "source": [
    "###Getting Data into Google Colab"
   ]
  },
  {
   "cell_type": "code",
   "execution_count": null,
   "metadata": {
    "colab": {
     "base_uri": "https://localhost:8080/",
     "height": 363
    },
    "id": "jrlixo3QjsNL",
    "outputId": "dc0985ae-9928-4c87-c6fe-bb25c037612e"
   },
   "outputs": [
    {
     "data": {
      "text/html": [
       "\n",
       "     <input type=\"file\" id=\"files-7991c072-4704-4d73-84a7-bf537d64341e\" name=\"files[]\" multiple disabled\n",
       "        style=\"border:none\" />\n",
       "     <output id=\"result-7991c072-4704-4d73-84a7-bf537d64341e\">\n",
       "      Upload widget is only available when the cell has been executed in the\n",
       "      current browser session. Please rerun this cell to enable.\n",
       "      </output>\n",
       "      <script>// Copyright 2017 Google LLC\n",
       "//\n",
       "// Licensed under the Apache License, Version 2.0 (the \"License\");\n",
       "// you may not use this file except in compliance with the License.\n",
       "// You may obtain a copy of the License at\n",
       "//\n",
       "//      http://www.apache.org/licenses/LICENSE-2.0\n",
       "//\n",
       "// Unless required by applicable law or agreed to in writing, software\n",
       "// distributed under the License is distributed on an \"AS IS\" BASIS,\n",
       "// WITHOUT WARRANTIES OR CONDITIONS OF ANY KIND, either express or implied.\n",
       "// See the License for the specific language governing permissions and\n",
       "// limitations under the License.\n",
       "\n",
       "/**\n",
       " * @fileoverview Helpers for google.colab Python module.\n",
       " */\n",
       "(function(scope) {\n",
       "function span(text, styleAttributes = {}) {\n",
       "  const element = document.createElement('span');\n",
       "  element.textContent = text;\n",
       "  for (const key of Object.keys(styleAttributes)) {\n",
       "    element.style[key] = styleAttributes[key];\n",
       "  }\n",
       "  return element;\n",
       "}\n",
       "\n",
       "// Max number of bytes which will be uploaded at a time.\n",
       "const MAX_PAYLOAD_SIZE = 100 * 1024;\n",
       "\n",
       "function _uploadFiles(inputId, outputId) {\n",
       "  const steps = uploadFilesStep(inputId, outputId);\n",
       "  const outputElement = document.getElementById(outputId);\n",
       "  // Cache steps on the outputElement to make it available for the next call\n",
       "  // to uploadFilesContinue from Python.\n",
       "  outputElement.steps = steps;\n",
       "\n",
       "  return _uploadFilesContinue(outputId);\n",
       "}\n",
       "\n",
       "// This is roughly an async generator (not supported in the browser yet),\n",
       "// where there are multiple asynchronous steps and the Python side is going\n",
       "// to poll for completion of each step.\n",
       "// This uses a Promise to block the python side on completion of each step,\n",
       "// then passes the result of the previous step as the input to the next step.\n",
       "function _uploadFilesContinue(outputId) {\n",
       "  const outputElement = document.getElementById(outputId);\n",
       "  const steps = outputElement.steps;\n",
       "\n",
       "  const next = steps.next(outputElement.lastPromiseValue);\n",
       "  return Promise.resolve(next.value.promise).then((value) => {\n",
       "    // Cache the last promise value to make it available to the next\n",
       "    // step of the generator.\n",
       "    outputElement.lastPromiseValue = value;\n",
       "    return next.value.response;\n",
       "  });\n",
       "}\n",
       "\n",
       "/**\n",
       " * Generator function which is called between each async step of the upload\n",
       " * process.\n",
       " * @param {string} inputId Element ID of the input file picker element.\n",
       " * @param {string} outputId Element ID of the output display.\n",
       " * @return {!Iterable<!Object>} Iterable of next steps.\n",
       " */\n",
       "function* uploadFilesStep(inputId, outputId) {\n",
       "  const inputElement = document.getElementById(inputId);\n",
       "  inputElement.disabled = false;\n",
       "\n",
       "  const outputElement = document.getElementById(outputId);\n",
       "  outputElement.innerHTML = '';\n",
       "\n",
       "  const pickedPromise = new Promise((resolve) => {\n",
       "    inputElement.addEventListener('change', (e) => {\n",
       "      resolve(e.target.files);\n",
       "    });\n",
       "  });\n",
       "\n",
       "  const cancel = document.createElement('button');\n",
       "  inputElement.parentElement.appendChild(cancel);\n",
       "  cancel.textContent = 'Cancel upload';\n",
       "  const cancelPromise = new Promise((resolve) => {\n",
       "    cancel.onclick = () => {\n",
       "      resolve(null);\n",
       "    };\n",
       "  });\n",
       "\n",
       "  // Wait for the user to pick the files.\n",
       "  const files = yield {\n",
       "    promise: Promise.race([pickedPromise, cancelPromise]),\n",
       "    response: {\n",
       "      action: 'starting',\n",
       "    }\n",
       "  };\n",
       "\n",
       "  cancel.remove();\n",
       "\n",
       "  // Disable the input element since further picks are not allowed.\n",
       "  inputElement.disabled = true;\n",
       "\n",
       "  if (!files) {\n",
       "    return {\n",
       "      response: {\n",
       "        action: 'complete',\n",
       "      }\n",
       "    };\n",
       "  }\n",
       "\n",
       "  for (const file of files) {\n",
       "    const li = document.createElement('li');\n",
       "    li.append(span(file.name, {fontWeight: 'bold'}));\n",
       "    li.append(span(\n",
       "        `(${file.type || 'n/a'}) - ${file.size} bytes, ` +\n",
       "        `last modified: ${\n",
       "            file.lastModifiedDate ? file.lastModifiedDate.toLocaleDateString() :\n",
       "                                    'n/a'} - `));\n",
       "    const percent = span('0% done');\n",
       "    li.appendChild(percent);\n",
       "\n",
       "    outputElement.appendChild(li);\n",
       "\n",
       "    const fileDataPromise = new Promise((resolve) => {\n",
       "      const reader = new FileReader();\n",
       "      reader.onload = (e) => {\n",
       "        resolve(e.target.result);\n",
       "      };\n",
       "      reader.readAsArrayBuffer(file);\n",
       "    });\n",
       "    // Wait for the data to be ready.\n",
       "    let fileData = yield {\n",
       "      promise: fileDataPromise,\n",
       "      response: {\n",
       "        action: 'continue',\n",
       "      }\n",
       "    };\n",
       "\n",
       "    // Use a chunked sending to avoid message size limits. See b/62115660.\n",
       "    let position = 0;\n",
       "    do {\n",
       "      const length = Math.min(fileData.byteLength - position, MAX_PAYLOAD_SIZE);\n",
       "      const chunk = new Uint8Array(fileData, position, length);\n",
       "      position += length;\n",
       "\n",
       "      const base64 = btoa(String.fromCharCode.apply(null, chunk));\n",
       "      yield {\n",
       "        response: {\n",
       "          action: 'append',\n",
       "          file: file.name,\n",
       "          data: base64,\n",
       "        },\n",
       "      };\n",
       "\n",
       "      let percentDone = fileData.byteLength === 0 ?\n",
       "          100 :\n",
       "          Math.round((position / fileData.byteLength) * 100);\n",
       "      percent.textContent = `${percentDone}% done`;\n",
       "\n",
       "    } while (position < fileData.byteLength);\n",
       "  }\n",
       "\n",
       "  // All done.\n",
       "  yield {\n",
       "    response: {\n",
       "      action: 'complete',\n",
       "    }\n",
       "  };\n",
       "}\n",
       "\n",
       "scope.google = scope.google || {};\n",
       "scope.google.colab = scope.google.colab || {};\n",
       "scope.google.colab._files = {\n",
       "  _uploadFiles,\n",
       "  _uploadFilesContinue,\n",
       "};\n",
       "})(self);\n",
       "</script> "
      ],
      "text/plain": [
       "<IPython.core.display.HTML object>"
      ]
     },
     "metadata": {},
     "output_type": "display_data"
    },
    {
     "ename": "MessageError",
     "evalue": "ignored",
     "output_type": "error",
     "traceback": [
      "\u001b[0;31m---------------------------------------------------------------------------\u001b[0m",
      "\u001b[0;31mMessageError\u001b[0m                              Traceback (most recent call last)",
      "\u001b[0;32m<ipython-input-7-5c2e8a8d365b>\u001b[0m in \u001b[0;36m<module>\u001b[0;34m\u001b[0m\n\u001b[1;32m      1\u001b[0m \u001b[0;32mfrom\u001b[0m \u001b[0mgoogle\u001b[0m\u001b[0;34m.\u001b[0m\u001b[0mcolab\u001b[0m \u001b[0;32mimport\u001b[0m \u001b[0mfiles\u001b[0m\u001b[0;34m\u001b[0m\u001b[0;34m\u001b[0m\u001b[0m\n\u001b[0;32m----> 2\u001b[0;31m \u001b[0mfiles\u001b[0m\u001b[0;34m.\u001b[0m\u001b[0mupload\u001b[0m\u001b[0;34m(\u001b[0m\u001b[0;34m)\u001b[0m\u001b[0;34m\u001b[0m\u001b[0;34m\u001b[0m\u001b[0m\n\u001b[0m",
      "\u001b[0;32m/usr/local/lib/python3.8/dist-packages/google/colab/files.py\u001b[0m in \u001b[0;36mupload\u001b[0;34m()\u001b[0m\n\u001b[1;32m     65\u001b[0m   \"\"\"\n\u001b[1;32m     66\u001b[0m \u001b[0;34m\u001b[0m\u001b[0m\n\u001b[0;32m---> 67\u001b[0;31m   \u001b[0muploaded_files\u001b[0m \u001b[0;34m=\u001b[0m \u001b[0m_upload_files\u001b[0m\u001b[0;34m(\u001b[0m\u001b[0mmultiple\u001b[0m\u001b[0;34m=\u001b[0m\u001b[0;32mTrue\u001b[0m\u001b[0;34m)\u001b[0m\u001b[0;34m\u001b[0m\u001b[0;34m\u001b[0m\u001b[0m\n\u001b[0m\u001b[1;32m     68\u001b[0m   \u001b[0;31m# Mapping from original filename to filename as saved locally.\u001b[0m\u001b[0;34m\u001b[0m\u001b[0;34m\u001b[0m\u001b[0;34m\u001b[0m\u001b[0m\n\u001b[1;32m     69\u001b[0m   \u001b[0mlocal_filenames\u001b[0m \u001b[0;34m=\u001b[0m \u001b[0mdict\u001b[0m\u001b[0;34m(\u001b[0m\u001b[0;34m)\u001b[0m\u001b[0;34m\u001b[0m\u001b[0;34m\u001b[0m\u001b[0m\n",
      "\u001b[0;32m/usr/local/lib/python3.8/dist-packages/google/colab/files.py\u001b[0m in \u001b[0;36m_upload_files\u001b[0;34m(multiple)\u001b[0m\n\u001b[1;32m    148\u001b[0m \u001b[0;34m\u001b[0m\u001b[0m\n\u001b[1;32m    149\u001b[0m   \u001b[0;32mwhile\u001b[0m \u001b[0mresult\u001b[0m\u001b[0;34m[\u001b[0m\u001b[0;34m'action'\u001b[0m\u001b[0;34m]\u001b[0m \u001b[0;34m!=\u001b[0m \u001b[0;34m'complete'\u001b[0m\u001b[0;34m:\u001b[0m\u001b[0;34m\u001b[0m\u001b[0;34m\u001b[0m\u001b[0m\n\u001b[0;32m--> 150\u001b[0;31m     result = _output.eval_js(\n\u001b[0m\u001b[1;32m    151\u001b[0m         'google.colab._files._uploadFilesContinue(\"{output_id}\")'.format(\n\u001b[1;32m    152\u001b[0m             output_id=output_id))\n",
      "\u001b[0;32m/usr/local/lib/python3.8/dist-packages/google/colab/output/_js.py\u001b[0m in \u001b[0;36meval_js\u001b[0;34m(script, ignore_result, timeout_sec)\u001b[0m\n\u001b[1;32m     38\u001b[0m   \u001b[0;32mif\u001b[0m \u001b[0mignore_result\u001b[0m\u001b[0;34m:\u001b[0m\u001b[0;34m\u001b[0m\u001b[0;34m\u001b[0m\u001b[0m\n\u001b[1;32m     39\u001b[0m     \u001b[0;32mreturn\u001b[0m\u001b[0;34m\u001b[0m\u001b[0;34m\u001b[0m\u001b[0m\n\u001b[0;32m---> 40\u001b[0;31m   \u001b[0;32mreturn\u001b[0m \u001b[0m_message\u001b[0m\u001b[0;34m.\u001b[0m\u001b[0mread_reply_from_input\u001b[0m\u001b[0;34m(\u001b[0m\u001b[0mrequest_id\u001b[0m\u001b[0;34m,\u001b[0m \u001b[0mtimeout_sec\u001b[0m\u001b[0;34m)\u001b[0m\u001b[0;34m\u001b[0m\u001b[0;34m\u001b[0m\u001b[0m\n\u001b[0m\u001b[1;32m     41\u001b[0m \u001b[0;34m\u001b[0m\u001b[0m\n\u001b[1;32m     42\u001b[0m \u001b[0;34m\u001b[0m\u001b[0m\n",
      "\u001b[0;32m/usr/local/lib/python3.8/dist-packages/google/colab/_message.py\u001b[0m in \u001b[0;36mread_reply_from_input\u001b[0;34m(message_id, timeout_sec)\u001b[0m\n\u001b[1;32m    100\u001b[0m         reply.get('colab_msg_id') == message_id):\n\u001b[1;32m    101\u001b[0m       \u001b[0;32mif\u001b[0m \u001b[0;34m'error'\u001b[0m \u001b[0;32min\u001b[0m \u001b[0mreply\u001b[0m\u001b[0;34m:\u001b[0m\u001b[0;34m\u001b[0m\u001b[0;34m\u001b[0m\u001b[0m\n\u001b[0;32m--> 102\u001b[0;31m         \u001b[0;32mraise\u001b[0m \u001b[0mMessageError\u001b[0m\u001b[0;34m(\u001b[0m\u001b[0mreply\u001b[0m\u001b[0;34m[\u001b[0m\u001b[0;34m'error'\u001b[0m\u001b[0;34m]\u001b[0m\u001b[0;34m)\u001b[0m\u001b[0;34m\u001b[0m\u001b[0;34m\u001b[0m\u001b[0m\n\u001b[0m\u001b[1;32m    103\u001b[0m       \u001b[0;32mreturn\u001b[0m \u001b[0mreply\u001b[0m\u001b[0;34m.\u001b[0m\u001b[0mget\u001b[0m\u001b[0;34m(\u001b[0m\u001b[0;34m'data'\u001b[0m\u001b[0;34m,\u001b[0m \u001b[0;32mNone\u001b[0m\u001b[0;34m)\u001b[0m\u001b[0;34m\u001b[0m\u001b[0;34m\u001b[0m\u001b[0m\n\u001b[1;32m    104\u001b[0m \u001b[0;34m\u001b[0m\u001b[0m\n",
      "\u001b[0;31mMessageError\u001b[0m: RangeError: Maximum call stack size exceeded."
     ]
    }
   ],
   "source": [
    "from google.colab import files\n",
    "files.upload()"
   ]
  },
  {
   "cell_type": "code",
   "execution_count": null,
   "metadata": {
    "colab": {
     "base_uri": "https://localhost:8080/"
    },
    "id": "0nsRyJUbpOJR",
    "outputId": "e2ddbd08-e559-41bb-c980-5eb14e1fa38f"
   },
   "outputs": [
    {
     "name": "stdout",
     "output_type": "stream",
     "text": [
      "unzip:  cannot find or open data.zip, data.zip.zip or data.zip.ZIP.\n"
     ]
    }
   ],
   "source": [
    "!unzip data.zip"
   ]
  },
  {
   "cell_type": "code",
   "execution_count": null,
   "metadata": {
    "id": "Tq12LVoUoMya"
   },
   "outputs": [],
   "source": [
    "import os, shutil, pathlib\n",
    "\n",
    "original_dir = pathlib.Path(\"data\")\n",
    "new_dir = pathlib.Path(\"Sorted_Data\")\n",
    "\n",
    "def make_subset(subset_name, start_index, end_index):\n",
    "    for category in (\"circle\", \"digits\", \"triangle\"):\n",
    "        dir = new_dir / subset_name / category\n",
    "        os.makedirs(dir, exist_ok = True)\n",
    "        fnames = [f\"{category}_{i}.jpg\" for i in range(start_index, end_index)]\n",
    "        for fname in fnames:\n",
    "            shutil.copyfile(src=original_dir / fname,\n",
    "                            dst=dir / fname)\n",
    "\n",
    "make_subset(\"train\", start_index=0, end_index=100)\n",
    "make_subset(\"validation\", start_index=100, end_index=300)\n",
    "make_subset(\"test\", start_index=300, end_index=1000)"
   ]
  },
  {
   "cell_type": "markdown",
   "metadata": {
    "id": "RniePil8_b27"
   },
   "source": [
    "###Preprocess Data"
   ]
  },
  {
   "cell_type": "code",
   "execution_count": null,
   "metadata": {
    "colab": {
     "base_uri": "https://localhost:8080/"
    },
    "id": "hRh6tEggpniw",
    "outputId": "ac5cbb5e-cdb0-49fa-c114-c18389b94015"
   },
   "outputs": [
    {
     "name": "stdout",
     "output_type": "stream",
     "text": [
      "Found 300 files belonging to 3 classes.\n",
      "Found 1200 files belonging to 3 classes.\n",
      "Found 1500 files belonging to 3 classes.\n"
     ]
    }
   ],
   "source": [
    "from tensorflow.keras.utils import image_dataset_from_directory\n",
    "\n",
    "\n",
    "length = 100\n",
    "height = 100\n",
    "\n",
    "train_dataset = image_dataset_from_directory(\n",
    "    new_dir / \"train\",\n",
    "    label_mode = \"categorical\",\n",
    "    image_size=(length, height),\n",
    "    batch_size=50)\n",
    "validation_dataset = image_dataset_from_directory(\n",
    "    new_dir / \"validation\",\n",
    "    label_mode = \"categorical\",\n",
    "    image_size=(length, height),\n",
    "    batch_size=50)\n",
    "test_dataset = image_dataset_from_directory(\n",
    "    new_dir / \"test\",\n",
    "    label_mode = \"categorical\",\n",
    "    image_size=(length, height),\n",
    "    batch_size=50)"
   ]
  },
  {
   "cell_type": "code",
   "execution_count": null,
   "metadata": {
    "colab": {
     "base_uri": "https://localhost:8080/"
    },
    "id": "5KuKWifxrhvl",
    "outputId": "889ca2ac-47ed-4c62-d998-8a659c4776ed"
   },
   "outputs": [
    {
     "name": "stdout",
     "output_type": "stream",
     "text": [
      "data batch shape: (50, 100, 100, 3)\n",
      "labels batch shape: (50, 3)\n"
     ]
    }
   ],
   "source": [
    "for data_batch, labels_batch in train_dataset:\n",
    "    print(\"data batch shape:\", data_batch.shape)\n",
    "    print(\"labels batch shape:\", labels_batch.shape)\n",
    "    break"
   ]
  },
  {
   "cell_type": "markdown",
   "metadata": {
    "id": "G1OsK-be53DD"
   },
   "source": [
    "###The Model"
   ]
  },
  {
   "cell_type": "code",
   "execution_count": null,
   "metadata": {
    "colab": {
     "base_uri": "https://localhost:8080/"
    },
    "id": "mvoGvFQarocZ",
    "outputId": "18bad66f-14cf-48e5-e015-4d8d7ca9e2b0"
   },
   "outputs": [
    {
     "name": "stdout",
     "output_type": "stream",
     "text": [
      "Model: \"model_47\"\n",
      "_________________________________________________________________\n",
      " Layer (type)                Output Shape              Param #   \n",
      "=================================================================\n",
      " input_51 (InputLayer)       [(None, 100, 100, 3)]     0         \n",
      "                                                                 \n",
      " rescaling_47 (Rescaling)    (None, 100, 100, 3)       0         \n",
      "                                                                 \n",
      " conv2d_172 (Conv2D)         (None, 98, 98, 10)        280       \n",
      "                                                                 \n",
      " max_pooling2d_124 (MaxPooli  (None, 49, 49, 10)       0         \n",
      " ng2D)                                                           \n",
      "                                                                 \n",
      " conv2d_173 (Conv2D)         (None, 47, 47, 25)        2275      \n",
      "                                                                 \n",
      " max_pooling2d_125 (MaxPooli  (None, 23, 23, 25)       0         \n",
      " ng2D)                                                           \n",
      "                                                                 \n",
      " conv2d_174 (Conv2D)         (None, 21, 21, 50)        11300     \n",
      "                                                                 \n",
      " flatten_48 (Flatten)        (None, 22050)             0         \n",
      "                                                                 \n",
      " dense_48 (Dense)            (None, 3)                 66153     \n",
      "                                                                 \n",
      "=================================================================\n",
      "Total params: 80,008\n",
      "Trainable params: 80,008\n",
      "Non-trainable params: 0\n",
      "_________________________________________________________________\n"
     ]
    }
   ],
   "source": [
    "from tensorflow import keras\n",
    "from tensorflow.keras import layers\n",
    "\n",
    "inputs = keras.Input(shape=(length, height, 3))\n",
    "x = layers.Rescaling(1./255)(inputs)\n",
    "x = layers.Conv2D(filters=10, kernel_size=3, activation=\"relu\")(x)\n",
    "x = layers.MaxPooling2D(pool_size=2)(x)\n",
    "x = layers.Conv2D(filters=25, kernel_size=3, activation=\"relu\")(x)\n",
    "x = layers.MaxPooling2D(pool_size=2)(x)\n",
    "x = layers.Conv2D(filters=50, kernel_size=3, activation=\"relu\")(x)\n",
    "x = layers.Flatten()(x)\n",
    "outputs = layers.Dense(3, activation=\"softmax\")(x)\n",
    "model = keras.Model(inputs=inputs, outputs=outputs)\n",
    "model.summary()"
   ]
  },
  {
   "cell_type": "code",
   "execution_count": null,
   "metadata": {
    "colab": {
     "base_uri": "https://localhost:8080/"
    },
    "id": "Bjx-KirdrxAv",
    "outputId": "60b08170-d510-47fc-d93c-dd9ebe4ac2a6"
   },
   "outputs": [
    {
     "name": "stdout",
     "output_type": "stream",
     "text": [
      "Epoch 1/30\n",
      "6/6 [==============================] - 2s 329ms/step - loss: 1.2960 - accuracy: 0.3933 - val_loss: 1.1237 - val_accuracy: 0.3333\n",
      "Epoch 2/30\n",
      "6/6 [==============================] - 2s 304ms/step - loss: 1.0247 - accuracy: 0.4367 - val_loss: 0.9716 - val_accuracy: 0.6208\n",
      "Epoch 3/30\n",
      "6/6 [==============================] - 2s 308ms/step - loss: 0.8588 - accuracy: 0.7333 - val_loss: 0.7932 - val_accuracy: 0.6525\n",
      "Epoch 4/30\n",
      "6/6 [==============================] - 2s 304ms/step - loss: 0.6616 - accuracy: 0.7200 - val_loss: 0.5577 - val_accuracy: 0.7967\n",
      "Epoch 5/30\n",
      "6/6 [==============================] - 2s 307ms/step - loss: 0.4368 - accuracy: 0.8267 - val_loss: 0.4123 - val_accuracy: 0.8333\n",
      "Epoch 6/30\n",
      "6/6 [==============================] - 2s 306ms/step - loss: 0.3004 - accuracy: 0.8967 - val_loss: 0.2984 - val_accuracy: 0.8883\n",
      "Epoch 7/30\n",
      "6/6 [==============================] - 2s 303ms/step - loss: 0.2304 - accuracy: 0.9233 - val_loss: 0.2705 - val_accuracy: 0.8925\n",
      "Epoch 8/30\n",
      "6/6 [==============================] - 2s 308ms/step - loss: 0.1519 - accuracy: 0.9600 - val_loss: 0.3100 - val_accuracy: 0.8717\n",
      "Epoch 9/30\n",
      "6/6 [==============================] - 3s 478ms/step - loss: 0.1322 - accuracy: 0.9533 - val_loss: 0.1688 - val_accuracy: 0.9392\n",
      "Epoch 10/30\n",
      "6/6 [==============================] - 2s 315ms/step - loss: 0.0911 - accuracy: 0.9733 - val_loss: 0.1524 - val_accuracy: 0.9433\n",
      "Epoch 11/30\n",
      "6/6 [==============================] - 2s 300ms/step - loss: 0.0604 - accuracy: 0.9867 - val_loss: 0.1812 - val_accuracy: 0.9250\n",
      "Epoch 12/30\n",
      "6/6 [==============================] - 2s 310ms/step - loss: 0.0427 - accuracy: 0.9933 - val_loss: 0.1061 - val_accuracy: 0.9658\n",
      "Epoch 13/30\n",
      "6/6 [==============================] - 2s 308ms/step - loss: 0.0285 - accuracy: 1.0000 - val_loss: 0.1341 - val_accuracy: 0.9525\n",
      "Epoch 14/30\n",
      "6/6 [==============================] - 2s 300ms/step - loss: 0.0225 - accuracy: 1.0000 - val_loss: 0.0907 - val_accuracy: 0.9700\n",
      "Epoch 15/30\n",
      "6/6 [==============================] - 2s 295ms/step - loss: 0.0165 - accuracy: 1.0000 - val_loss: 0.1266 - val_accuracy: 0.9550\n",
      "Epoch 16/30\n",
      "6/6 [==============================] - 2s 299ms/step - loss: 0.0133 - accuracy: 1.0000 - val_loss: 0.0810 - val_accuracy: 0.9717\n",
      "Epoch 17/30\n",
      "6/6 [==============================] - 2s 297ms/step - loss: 0.0092 - accuracy: 1.0000 - val_loss: 0.1007 - val_accuracy: 0.9667\n",
      "Epoch 18/30\n",
      "6/6 [==============================] - 2s 297ms/step - loss: 0.0074 - accuracy: 1.0000 - val_loss: 0.0923 - val_accuracy: 0.9667\n",
      "Epoch 19/30\n",
      "6/6 [==============================] - 2s 306ms/step - loss: 0.0064 - accuracy: 1.0000 - val_loss: 0.0796 - val_accuracy: 0.9675\n",
      "Epoch 20/30\n",
      "6/6 [==============================] - 2s 297ms/step - loss: 0.0052 - accuracy: 1.0000 - val_loss: 0.0808 - val_accuracy: 0.9683\n",
      "Epoch 21/30\n",
      "6/6 [==============================] - 2s 297ms/step - loss: 0.0041 - accuracy: 1.0000 - val_loss: 0.0870 - val_accuracy: 0.9658\n",
      "Epoch 22/30\n",
      "6/6 [==============================] - 2s 302ms/step - loss: 0.0032 - accuracy: 1.0000 - val_loss: 0.0779 - val_accuracy: 0.9658\n",
      "Epoch 23/30\n",
      "6/6 [==============================] - 2s 308ms/step - loss: 0.0027 - accuracy: 1.0000 - val_loss: 0.0827 - val_accuracy: 0.9675\n",
      "Epoch 24/30\n",
      "6/6 [==============================] - 2s 306ms/step - loss: 0.0023 - accuracy: 1.0000 - val_loss: 0.0885 - val_accuracy: 0.9667\n",
      "Epoch 25/30\n",
      "6/6 [==============================] - 2s 298ms/step - loss: 0.0020 - accuracy: 1.0000 - val_loss: 0.0760 - val_accuracy: 0.9692\n",
      "Epoch 26/30\n",
      "6/6 [==============================] - 2s 300ms/step - loss: 0.0021 - accuracy: 1.0000 - val_loss: 0.0922 - val_accuracy: 0.9650\n",
      "Epoch 27/30\n",
      "6/6 [==============================] - 2s 299ms/step - loss: 0.0016 - accuracy: 1.0000 - val_loss: 0.0635 - val_accuracy: 0.9758\n",
      "Epoch 28/30\n",
      "6/6 [==============================] - 2s 299ms/step - loss: 0.0014 - accuracy: 1.0000 - val_loss: 0.0906 - val_accuracy: 0.9642\n",
      "Epoch 29/30\n",
      "6/6 [==============================] - 2s 305ms/step - loss: 0.0012 - accuracy: 1.0000 - val_loss: 0.0772 - val_accuracy: 0.9708\n",
      "Epoch 30/30\n",
      "6/6 [==============================] - 2s 301ms/step - loss: 0.0010 - accuracy: 1.0000 - val_loss: 0.0748 - val_accuracy: 0.9708\n"
     ]
    }
   ],
   "source": [
    "model.compile(loss=\"categorical_crossentropy\",\n",
    "              optimizer=\"Adam\",\n",
    "              metrics=[\"accuracy\"])\n",
    "\n",
    "callbacks = [\n",
    "    keras.callbacks.ModelCheckpoint(\n",
    "        filepath=\"convnet_from_scratch.keras\",\n",
    "        save_best_only=True,\n",
    "        monitor=\"val_loss\")\n",
    "]\n",
    "history = model.fit(\n",
    "    train_dataset,\n",
    "    epochs=30,\n",
    "    validation_data=validation_dataset,\n",
    "    callbacks=callbacks)"
   ]
  },
  {
   "cell_type": "markdown",
   "metadata": {
    "id": "SInnZ0k9Dxbl"
   },
   "source": [
    "###Evaluation"
   ]
  },
  {
   "cell_type": "code",
   "execution_count": null,
   "metadata": {
    "colab": {
     "base_uri": "https://localhost:8080/",
     "height": 545
    },
    "id": "yc2h_jm4scme",
    "outputId": "eb504bbb-5c60-48ad-ec07-129e82de0c04"
   },
   "outputs": [
    {
     "data": {
      "image/png": "[encoded data removed]",
      "text/plain": [
       "<Figure size 432x288 with 1 Axes>"
      ]
     },
     "metadata": {
      "needs_background": "light"
     },
     "output_type": "display_data"
    },
    {
     "data": {
      "image/png": "[encoded data removed]",
      "text/plain": [
       "<Figure size 432x288 with 1 Axes>"
      ]
     },
     "metadata": {
      "needs_background": "light"
     },
     "output_type": "display_data"
    }
   ],
   "source": [
    "import matplotlib.pyplot as plt\n",
    "accuracy = history.history[\"accuracy\"]\n",
    "val_accuracy = history.history[\"val_accuracy\"]\n",
    "loss = history.history[\"loss\"]\n",
    "val_loss = history.history[\"val_loss\"]\n",
    "epochs = range(1, len(accuracy) + 1)\n",
    "plt.plot(epochs, accuracy, \"bo\", label=\"Training accuracy\")\n",
    "plt.plot(epochs, val_accuracy, \"b\", label=\"Validation accuracy\")\n",
    "plt.title(\"Training and validation accuracy\")\n",
    "plt.legend()\n",
    "plt.figure()\n",
    "plt.plot(epochs, loss, \"bo\", label=\"Training loss\")\n",
    "plt.plot(epochs, val_loss, \"b\", label=\"Validation loss\")\n",
    "plt.title(\"Training and validation loss\")\n",
    "plt.legend()\n",
    "plt.show()"
   ]
  },
  {
   "cell_type": "code",
   "execution_count": null,
   "metadata": {
    "colab": {
     "base_uri": "https://localhost:8080/"
    },
    "id": "sxBlWs9kDs9F",
    "outputId": "dd42ab59-e7f5-4f40-d6a3-cb2c28543e5f"
   },
   "outputs": [
    {
     "name": "stdout",
     "output_type": "stream",
     "text": [
      "30/30 [==============================] - 2s 48ms/step - loss: 0.0884 - accuracy: 0.9727\n",
      "Test accuracy: 0.973\n"
     ]
    }
   ],
   "source": [
    "test_model = keras.models.load_model(\"convnet_from_scratch.keras\")\n",
    "test_loss, test_acc = test_model.evaluate(test_dataset)\n",
    "print(f\"Test accuracy: {test_acc:.3f}\")"
   ]
  },
  {
   "cell_type": "code",
   "execution_count": null,
   "metadata": {
    "id": "rCuFkDqH2_uV"
   },
   "outputs": [],
   "source": [
    "import numpy as np\n",
    "\n",
    "# Get all images and targets\n",
    "all_data = test_dataset.concatenate( train_dataset )\n",
    "all_data = all_data.concatenate( validation_dataset )\n",
    "\n",
    "# Seperate images and targets\n",
    "first = True\n",
    "for data, target in all_data:\n",
    "  if first:\n",
    "    targets = target.numpy()\n",
    "    images = data\n",
    "    first = False\n",
    "\n",
    "  else:\n",
    "    targets = np.vstack( ( targets, target.numpy() ) )\n",
    "    images = np.vstack( ( images, data ) )\n"
   ]
  },
  {
   "cell_type": "code",
   "execution_count": null,
   "metadata": {
    "colab": {
     "base_uri": "https://localhost:8080/"
    },
    "id": "O_rTWjU1wMlQ",
    "outputId": "7a5ef99e-4f8d-4748-b140-3eae7c19edad"
   },
   "outputs": [
    {
     "name": "stdout",
     "output_type": "stream",
     "text": [
      "94/94 [==============================] - 0s 4ms/step\n"
     ]
    }
   ],
   "source": [
    "# Convert images to predictions\n",
    "preds = test_model.predict( images )\n",
    "\n",
    "# Convert predictions to integer values, with a one in the highest prediction\n",
    "dif = 1 - np.max( preds, 1 )\n",
    "preds = np.floor( preds + np.stack( ( dif, dif, dif ), axis = 1 ) )"
   ]
  },
  {
   "cell_type": "code",
   "execution_count": null,
   "metadata": {
    "colab": {
     "base_uri": "https://localhost:8080/"
    },
    "id": "1ilDDF7QmlYi",
    "outputId": "c24690c4-dce4-4fc1-b41e-9e4e81181977"
   },
   "outputs": [
    {
     "name": "stdout",
     "output_type": "stream",
     "text": [
      "[[987   0  27]\n",
      " [  0 971   1]\n",
      " [ 13  29 972]]\n"
     ]
    }
   ],
   "source": [
    "# Get predictions in format needed for confusion matrix\n",
    "con_pred = np.dstack( (preds, preds, preds) )\n",
    "\n",
    "# Get targets in format needed for confusion matrix\n",
    "con_targets = np.stack( (targets, targets, targets), 1 )\n",
    "\n",
    "\n",
    "# Make confusion matrix for each image\n",
    "con_matrix = np.array( con_pred , dtype=\"int32\") & np.array( con_targets, dtype = \"int32\" )\n",
    "\n",
    "# Combine all confusion matrices\n",
    "con_matrix = con_matrix.sum(0) \n",
    "\n",
    "print(con_matrix)\n"
   ]
  },
  {
   "cell_type": "code",
   "execution_count": null,
   "metadata": {
    "colab": {
     "base_uri": "https://localhost:8080/"
    },
    "id": "FXSqRRsRm5wY",
    "outputId": "d670dffd-1713-4ee7-e734-d9deccff01af"
   },
   "outputs": [
    {
     "name": "stdout",
     "output_type": "stream",
     "text": [
      " \n",
      "                       Actual\n",
      "\n",
      "                    C      D      T\n",
      "                ┌───────────────────\n",
      "              C │  987      0     27\n",
      "                │\n",
      "Predictions   D │    0    971      1\n",
      "                │\n",
      "              T │   13     29    972\n",
      " \n",
      "\n"
     ]
    }
   ],
   "source": [
    "# Convert con_matrix to strings of a set width\n",
    "def format( number ):\n",
    "  return str(number).rjust( 4, \" \")\n",
    "\n",
    "con_values = []  \n",
    "con_values.append( list( map( format, con_matrix[0]) ) )\n",
    "con_values.append( list( map( format, con_matrix[1]) ) )\n",
    "con_values.append( list( map( format, con_matrix[2]) ) )\n",
    "\n",
    "# Print confusion matrix\n",
    "print( f''' \n",
    "                       Actual\n",
    "\n",
    "                    C      D      T\n",
    "                ┌───────────────────\n",
    "              C │ {con_values[0][0]}   {con_values[0][1]}   {con_values[0][2]}\n",
    "                │\n",
    "Predictions   D │ {con_values[1][0]}   {con_values[1][1]}   {con_values[1][2]}\n",
    "                │\n",
    "              T │ {con_values[2][0]}   {con_values[2][1]}   {con_values[2][2]}\n",
    " \n",
    "''')"
   ]
  },
  {
   "cell_type": "markdown",
   "metadata": {
    "id": "yuGhhLylix80"
   },
   "source": [
    "###VGG16 Model"
   ]
  },
  {
   "cell_type": "code",
   "execution_count": null,
   "metadata": {
    "id": "dSZ3J5vBnFfE"
   },
   "outputs": [],
   "source": [
    "conv_base  = keras.applications.vgg16.VGG16(\n",
    "    weights=\"imagenet\",\n",
    "    include_top=False)\n",
    "conv_base.trainable = False"
   ]
  },
  {
   "cell_type": "code",
   "execution_count": null,
   "metadata": {
    "colab": {
     "base_uri": "https://localhost:8080/"
    },
    "id": "hHboMtET6_e1",
    "outputId": "cfb9d619-ab56-4c56-8430-7535864804b1"
   },
   "outputs": [
    {
     "name": "stdout",
     "output_type": "stream",
     "text": [
      "This is the number of trainable weights before freezing the conv base: 26\n"
     ]
    }
   ],
   "source": [
    "conv_base.trainable = True\n",
    "print(\"This is the number of trainable weights \"\n",
    "      \"before freezing the conv base:\", len(conv_base.trainable_weights))"
   ]
  },
  {
   "cell_type": "code",
   "execution_count": null,
   "metadata": {
    "colab": {
     "base_uri": "https://localhost:8080/"
    },
    "id": "4MlUXsRc7Ole",
    "outputId": "4de6702c-ca5d-420a-ee52-ce1b8dc2507c"
   },
   "outputs": [
    {
     "name": "stdout",
     "output_type": "stream",
     "text": [
      "This is the number of trainable weights after freezing the conv base: 0\n"
     ]
    }
   ],
   "source": [
    "conv_base.trainable = False\n",
    "print(\"This is the number of trainable weights \"\n",
    "      \"after freezing the conv base:\", len(conv_base.trainable_weights))"
   ]
  },
  {
   "cell_type": "code",
   "execution_count": null,
   "metadata": {
    "id": "5-2_sr7P7OYg"
   },
   "outputs": [],
   "source": [
    "inputs = keras.Input(shape=(length, height, 3))\n",
    "x = keras.applications.vgg16.preprocess_input(inputs)\n",
    "x = conv_base(x)\n",
    "x = layers.Flatten()(x)\n",
    "x = layers.Dropout(0.1)(x)\n",
    "outputs = layers.Dense(3, activation=\"softmax\")(x)\n",
    "model = keras.Model(inputs, outputs)\n",
    "model.compile(loss=\"categorical_crossentropy\",\n",
    "              optimizer=keras.optimizers.Adam(learning_rate=0.0002),\n",
    "              metrics=[\"accuracy\"])"
   ]
  },
  {
   "cell_type": "code",
   "execution_count": null,
   "metadata": {
    "colab": {
     "base_uri": "https://localhost:8080/"
    },
    "id": "-y0HTtCJ7a9e",
    "outputId": "cf70dbfd-d836-46ec-b41f-6fdd57d2be9a"
   },
   "outputs": [
    {
     "name": "stdout",
     "output_type": "stream",
     "text": [
      "Epoch 1/20\n",
      "6/6 [==============================] - 4s 632ms/step - loss: 6.8840 - accuracy: 0.3400 - val_loss: 3.5663 - val_accuracy: 0.4883\n",
      "Epoch 2/20\n",
      "6/6 [==============================] - 3s 597ms/step - loss: 3.0101 - accuracy: 0.5933 - val_loss: 1.5624 - val_accuracy: 0.7200\n",
      "Epoch 3/20\n",
      "6/6 [==============================] - 3s 554ms/step - loss: 1.4325 - accuracy: 0.7433 - val_loss: 0.8649 - val_accuracy: 0.8367\n",
      "Epoch 4/20\n",
      "6/6 [==============================] - 3s 602ms/step - loss: 0.7364 - accuracy: 0.8500 - val_loss: 0.4561 - val_accuracy: 0.9150\n",
      "Epoch 5/20\n",
      "6/6 [==============================] - 3s 603ms/step - loss: 0.4857 - accuracy: 0.9033 - val_loss: 0.2686 - val_accuracy: 0.9492\n",
      "Epoch 6/20\n",
      "6/6 [==============================] - 3s 600ms/step - loss: 0.1443 - accuracy: 0.9500 - val_loss: 0.1897 - val_accuracy: 0.9650\n",
      "Epoch 7/20\n",
      "6/6 [==============================] - 3s 597ms/step - loss: 0.1070 - accuracy: 0.9667 - val_loss: 0.1409 - val_accuracy: 0.9725\n",
      "Epoch 8/20\n",
      "6/6 [==============================] - 3s 600ms/step - loss: 0.1153 - accuracy: 0.9700 - val_loss: 0.1152 - val_accuracy: 0.9750\n",
      "Epoch 9/20\n",
      "6/6 [==============================] - 3s 614ms/step - loss: 0.0464 - accuracy: 0.9767 - val_loss: 0.1004 - val_accuracy: 0.9775\n",
      "Epoch 10/20\n",
      "6/6 [==============================] - 3s 603ms/step - loss: 0.0825 - accuracy: 0.9767 - val_loss: 0.0961 - val_accuracy: 0.9792\n",
      "Epoch 11/20\n",
      "6/6 [==============================] - 3s 590ms/step - loss: 0.0655 - accuracy: 0.9800 - val_loss: 0.0978 - val_accuracy: 0.9783\n",
      "Epoch 12/20\n",
      "6/6 [==============================] - 3s 565ms/step - loss: 0.0162 - accuracy: 0.9967 - val_loss: 0.0982 - val_accuracy: 0.9783\n",
      "Epoch 13/20\n",
      "6/6 [==============================] - 3s 555ms/step - loss: 0.0253 - accuracy: 0.9900 - val_loss: 0.0967 - val_accuracy: 0.9783\n",
      "Epoch 14/20\n",
      "6/6 [==============================] - 3s 602ms/step - loss: 0.0177 - accuracy: 0.9933 - val_loss: 0.0916 - val_accuracy: 0.9800\n",
      "Epoch 15/20\n",
      "6/6 [==============================] - 3s 613ms/step - loss: 0.0240 - accuracy: 0.9967 - val_loss: 0.0862 - val_accuracy: 0.9800\n",
      "Epoch 16/20\n",
      "6/6 [==============================] - 3s 558ms/step - loss: 0.0188 - accuracy: 0.9933 - val_loss: 0.0800 - val_accuracy: 0.9825\n",
      "Epoch 17/20\n",
      "6/6 [==============================] - 3s 589ms/step - loss: 0.0076 - accuracy: 1.0000 - val_loss: 0.0743 - val_accuracy: 0.9825\n",
      "Epoch 18/20\n",
      "6/6 [==============================] - 4s 619ms/step - loss: 0.0025 - accuracy: 1.0000 - val_loss: 0.0717 - val_accuracy: 0.9833\n",
      "Epoch 19/20\n",
      "6/6 [==============================] - 3s 568ms/step - loss: 0.0133 - accuracy: 0.9933 - val_loss: 0.0722 - val_accuracy: 0.9842\n",
      "Epoch 20/20\n",
      "6/6 [==============================] - 3s 557ms/step - loss: 0.0054 - accuracy: 0.9967 - val_loss: 0.0744 - val_accuracy: 0.9833\n"
     ]
    }
   ],
   "source": [
    "callbacks = [\n",
    "    keras.callbacks.ModelCheckpoint(\n",
    "        filepath=\"feature_extraction_with_data_augmentation.keras\",\n",
    "        save_best_only=True,\n",
    "        monitor=\"val_loss\")\n",
    "]\n",
    "history = model.fit(\n",
    "    train_dataset,\n",
    "    epochs=20,\n",
    "    validation_data=validation_dataset,\n",
    "    callbacks=callbacks)"
   ]
  },
  {
   "cell_type": "markdown",
   "metadata": {
    "id": "2iLvNMnni6Mv"
   },
   "source": [
    "###VGG16 Evaluation"
   ]
  },
  {
   "cell_type": "code",
   "execution_count": null,
   "metadata": {
    "colab": {
     "base_uri": "https://localhost:8080/"
    },
    "id": "uruWkIkU7dOR",
    "outputId": "31b99a21-e5de-44b0-c3f0-c068256d8cb6"
   },
   "outputs": [
    {
     "name": "stdout",
     "output_type": "stream",
     "text": [
      "30/30 [==============================] - 3s 72ms/step - loss: 0.0517 - accuracy: 0.9880\n",
      "Test accuracy: 0.988\n"
     ]
    }
   ],
   "source": [
    "test_model = keras.models.load_model(\n",
    "    \"feature_extraction_with_data_augmentation.keras\")\n",
    "test_loss, test_acc = test_model.evaluate(test_dataset)\n",
    "print(f\"Test accuracy: {test_acc:.3f}\")"
   ]
  },
  {
   "cell_type": "code",
   "execution_count": null,
   "metadata": {
    "colab": {
     "base_uri": "https://localhost:8080/",
     "height": 545
    },
    "id": "sh4MTIPdP9-q",
    "outputId": "7c42f597-daa0-4150-e8a6-10f619ae2338"
   },
   "outputs": [
    {
     "data": {
      "image/png": "[encoded data removed]",
      "text/plain": [
       "<Figure size 432x288 with 1 Axes>"
      ]
     },
     "metadata": {
      "needs_background": "light"
     },
     "output_type": "display_data"
    },
    {
     "data": {
      "image/png": "[encoded data removed]",
      "text/plain": [
       "<Figure size 432x288 with 1 Axes>"
      ]
     },
     "metadata": {
      "needs_background": "light"
     },
     "output_type": "display_data"
    }
   ],
   "source": [
    "accuracy = history.history[\"accuracy\"]\n",
    "val_accuracy = history.history[\"val_accuracy\"]\n",
    "loss = history.history[\"loss\"]\n",
    "val_loss = history.history[\"val_loss\"]\n",
    "epochs = range(1, len(accuracy) + 1)\n",
    "plt.plot(epochs, accuracy, \"bo\", label=\"Training accuracy\")\n",
    "plt.plot(epochs, val_accuracy, \"b\", label=\"Validation accuracy\")\n",
    "plt.title(\"Training and validation accuracy\")\n",
    "plt.legend()\n",
    "plt.figure()\n",
    "plt.plot(epochs, loss, \"bo\", label=\"Training loss\")\n",
    "plt.plot(epochs, val_loss, \"b\", label=\"Validation loss\")\n",
    "plt.title(\"Training and validation loss\")\n",
    "plt.legend()\n",
    "plt.show()"
   ]
  },
  {
   "cell_type": "code",
   "execution_count": null,
   "metadata": {
    "colab": {
     "base_uri": "https://localhost:8080/"
    },
    "id": "0ByInVP-QFW3",
    "outputId": "58e12a5c-b461-4a93-9a0f-f1906fa20a14"
   },
   "outputs": [
    {
     "name": "stdout",
     "output_type": "stream",
     "text": [
      "94/94 [==============================] - 3s 35ms/step\n"
     ]
    }
   ],
   "source": [
    "# Convert images to predictions\n",
    "preds = test_model.predict( images )\n",
    "\n",
    "# Convert predictions to integer values, with a one in the highest prediction\n",
    "dif = 1 - np.max( preds, 1 )\n",
    "preds = np.floor( preds + np.stack( ( dif, dif, dif ), axis = 1 ) )"
   ]
  },
  {
   "cell_type": "code",
   "execution_count": null,
   "metadata": {
    "colab": {
     "base_uri": "https://localhost:8080/"
    },
    "id": "ddDI9OyxXygu",
    "outputId": "8e508682-ead4-4c8a-b62e-5d9c7fc2e51b"
   },
   "outputs": [
    {
     "name": "stdout",
     "output_type": "stream",
     "text": [
      "[[998   2   0]\n",
      " [  1 967   3]\n",
      " [  1  31 997]]\n"
     ]
    }
   ],
   "source": [
    "# Get predictions in format needed for confusion matrix\n",
    "con_pred = np.dstack( (preds, preds, preds) )\n",
    "\n",
    "# Get targets in format needed for confusion matrix\n",
    "con_targets = np.stack( (targets, targets, targets), 1 )\n",
    "\n",
    "# Make confusion matrix for each image\n",
    "con_matrix = np.array( con_pred , dtype=\"int32\") & np.array( con_targets, dtype = \"int32\" )\n",
    "\n",
    "# Combine all confusion matrices\n",
    "con_matrix = con_matrix.sum(0) \n",
    "\n",
    "print(con_matrix)"
   ]
  },
  {
   "cell_type": "code",
   "execution_count": null,
   "metadata": {
    "colab": {
     "base_uri": "https://localhost:8080/"
    },
    "id": "6Np5OLXkX_vT",
    "outputId": "00efa9c6-3b2d-4d3c-cc77-9328702ed1c0"
   },
   "outputs": [
    {
     "name": "stdout",
     "output_type": "stream",
     "text": [
      " \n",
      "                       Actual\n",
      "\n",
      "                    C      D      T\n",
      "                ┌───────────────────\n",
      "              C │  998      2      0\n",
      "                │\n",
      "Predictions   D │    1    967      3\n",
      "                │\n",
      "              T │    1     31    997\n",
      " \n",
      "\n"
     ]
    }
   ],
   "source": [
    "# Convert con_matrix to strings of a set width\n",
    "def format( number ):\n",
    "  return str(number).rjust( 4, \" \")\n",
    "\n",
    "con_values = []  \n",
    "con_values.append( list( map( format, con_matrix[0]) ) )\n",
    "con_values.append( list( map( format, con_matrix[1]) ) )\n",
    "con_values.append( list( map( format, con_matrix[2]) ) )\n",
    "\n",
    "# Print confusion matrix\n",
    "print( f''' \n",
    "                       Actual\n",
    "\n",
    "                    C      D      T\n",
    "                ┌───────────────────\n",
    "              C │ {con_values[0][0]}   {con_values[0][1]}   {con_values[0][2]}\n",
    "                │\n",
    "Predictions   D │ {con_values[1][0]}   {con_values[1][1]}   {con_values[1][2]}\n",
    "                │\n",
    "              T │ {con_values[2][0]}   {con_values[2][1]}   {con_values[2][2]}\n",
    " \n",
    "''')"
   ]
  },
  {
   "cell_type": "code",
   "execution_count": null,
   "metadata": {
    "id": "7BUG6KL2YUiw"
   },
   "outputs": [],
   "source": []
  }
 ],
 "metadata": {
  "accelerator": "GPU",
  "colab": {
   "provenance": [],
   "toc_visible": true
  },
  "gpuClass": "standard",
  "kernelspec": {
   "display_name": "Python 3 (ipykernel)",
   "language": "python",
   "name": "python3"
  },
  "language_info": {
   "codemirror_mode": {
    "name": "ipython",
    "version": 3
   },
   "file_extension": ".py",
   "mimetype": "text/x-python",
   "name": "python",
   "nbconvert_exporter": "python",
   "pygments_lexer": "ipython3",
   "version": "3.9.13"
  }
 },
 "nbformat": 4,
 "nbformat_minor": 1
}
