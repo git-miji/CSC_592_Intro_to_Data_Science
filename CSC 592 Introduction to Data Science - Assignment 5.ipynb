{
 "cells": [
  {
   "cell_type": "markdown",
   "metadata": {},
   "source": [
    "#### CSC 592 Introduction to Data Science Excercise - Assignment 3\n",
    "##### Submitted by:\n",
    "##### Name: Md Kausar Hamid Miji\n",
    "##### Graduate Student: Computer Science and Engineering\n",
    "##### and\n",
    "##### Name: Sherwyn Braganza\n",
    "##### Graduate Student: Computer Science and Engineering"
   ]
  },
  {
   "cell_type": "markdown",
   "metadata": {
    "colab_type": "text"
   },
   "source": [
    "This is a companion notebook for the book [Deep Learning with Python, Second Edition](https://www.manning.com/books/deep-learning-with-python-second-edition?a_aid=keras&a_bid=76564dff). For readability, it only contains runnable code blocks and section titles, and omits everything else in the book: text paragraphs, figures, and pseudocode.\n",
    "\n",
    "**If you want to be able to follow what's going on, I recommend reading the notebook side by side with your copy of the book.**\n",
    "\n",
    "This notebook was generated for TensorFlow 2.6."
   ]
  },
  {
   "cell_type": "markdown",
   "metadata": {
    "colab_type": "text"
   },
   "source": [
    "# Deep learning for timeseries"
   ]
  },
  {
   "cell_type": "markdown",
   "metadata": {
    "colab_type": "text"
   },
   "source": [
    "## Different kinds of timeseries tasks"
   ]
  },
  {
   "cell_type": "markdown",
   "metadata": {
    "colab_type": "text"
   },
   "source": [
    "## A temperature-forecasting example"
   ]
  },
  {
   "cell_type": "code",
   "execution_count": 1,
   "metadata": {
    "colab_type": "code"
   },
   "outputs": [
    {
     "name": "stderr",
     "output_type": "stream",
     "text": [
      "'wget' is not recognized as an internal or external command,\n",
      "operable program or batch file.\n",
      "'unzip' is not recognized as an internal or external command,\n",
      "operable program or batch file.\n"
     ]
    }
   ],
   "source": [
    "# (This is Linux below - to do this in Windows just enter the url into a browser \n",
    "#  - that will save the file in the Downloads directory.  Then unzip - move data file into same directory as this notebook.)\n",
    "\n",
    "!wget https://s3.amazonaws.com/keras-datasets/jena_climate_2009_2016.csv.zip\n",
    "!unzip jena_climate_2009_2016.csv.zip"
   ]
  },
  {
   "cell_type": "markdown",
   "metadata": {
    "colab_type": "text"
   },
   "source": [
    "**Inspecting the data of the Jena weather dataset**"
   ]
  },
  {
   "cell_type": "code",
   "execution_count": 53,
   "metadata": {
    "colab_type": "code"
   },
   "outputs": [
    {
     "name": "stdout",
     "output_type": "stream",
     "text": [
      "<class 'str'>\n",
      "43153572\n",
      "\"Date Time\",\"p (mbar)\",\"T (degC)\",\"Tpot (K)\",\"Tdew (degC)\",\"rh (%)\",\"VPmax (mbar)\",\"VPact (mbar)\",\"VPdef (mbar)\",\"sh (g/kg)\",\"H2OC (mmol/mol)\",\"rho (g/m**3)\",\"wv (m/s)\",\"max. wv (m/s)\",\"wd (deg)\"\n",
      "01.01.2009 00:10:00,996.52,-8.02,265.40,-8.90,93.30,3.33,3.11,0.22,1.94,3.12,1307.75,1.03,1.75,152.30\n",
      "01.01.2009 00:20:00,996.57,-8.41,265.01,-9.28,93.40,3.23,3.02,0.21,1.89,3.03,1309.80,0.72,1.50,136.10\n",
      "01.01.2009 00:30:00,996.53,-8.51,264.91,-9.31,93.90,3.21,3.01,0.20,1.88,3.02,1310.24,0.19,0.63,171.60\n",
      "01.01.2009 00:40:00,996.51,-8.31,265.12,-9.07,94.20,3.26,3.07,0.19,1.92,3.08,1309.19,0.34,0.50,198.00\n",
      "01.01.2009 00:50:00,996.51,-8.27,265.15,-9.04,94.10,3.27,3.08,0.19,1.92,3.09,1309.00,0.32,0.63,214.30\n",
      "01.01.2009 01:00:00,996.50,-8.05,265.38,-8.78,94.40,3.33,3.14,0.19,1.96,3.15,1307.86,0.21,0.63,192.70\n",
      "01.01.2009 01:10:00,996.50,-7.62,265.81,-8.30,94.80,3.44,3.26,0.18,2.04,3.27,1305.68,0.18,0.63,166.50\n",
      "01.01.2009 01:20:00,996.50,-7.62,265.81,-8.36,94.40,3.44,3.25,0.19,2.03,3.26,1305.69,0.19,\n"
     ]
    }
   ],
   "source": [
    "import os\n",
    "fname = os.path.join(\"jena_climate_2009_2016.csv\")\n",
    "\n",
    "with open(fname) as f:\n",
    "    data = f.read()\n",
    "    \n",
    "# what is 'data' variable (type, etc)?\n",
    "\n",
    "\"\"\" \n",
    "\n",
    "The 'data' is a str class object that contains our header which contains time series data in each column. \n",
    "\n",
    "\"\"\"\n",
    "\n",
    "print(type(data))\n",
    "print(len(data))\n",
    "print(data[:1000])\n"
   ]
  },
  {
   "cell_type": "code",
   "execution_count": 54,
   "metadata": {
    "colab_type": "code"
   },
   "outputs": [
    {
     "name": "stdout",
     "output_type": "stream",
     "text": [
      "420452\n",
      "<class 'list'>\n",
      "['\"Date Time\"', '\"p (mbar)\"', '\"T (degC)\"', '\"Tpot (K)\"', '\"Tdew (degC)\"', '\"rh (%)\"', '\"VPmax (mbar)\"', '\"VPact (mbar)\"', '\"VPdef (mbar)\"', '\"sh (g/kg)\"', '\"H2OC (mmol/mol)\"', '\"rho (g/m**3)\"', '\"wv (m/s)\"', '\"max. wv (m/s)\"', '\"wd (deg)\"']\n",
      "420451\n"
     ]
    }
   ],
   "source": [
    "lines = data.split(\"\\n\")\n",
    "# what is 'lines' variable (type, etc)?\n",
    "\n",
    "\"\"\"\n",
    "\n",
    "The 'lines' is a list of str class objects that corresponds to sections of data seperated by a '\\n'\n",
    "\n",
    "\"\"\"\n",
    "\n",
    "# how many lines are there?\n",
    "\n",
    "\"\"\"\n",
    "\n",
    "420452 (Including header)\n",
    "\n",
    "\"\"\"\n",
    "\n",
    "print(len(lines))\n",
    "print(type(lines))\n",
    "header = lines[0].split(\",\")\n",
    "lines = lines[1:]\n",
    "print(header)\n",
    "print(len(lines))"
   ]
  },
  {
   "cell_type": "markdown",
   "metadata": {
    "colab_type": "text"
   },
   "source": [
    "**Parsing the data**"
   ]
  },
  {
   "cell_type": "code",
   "execution_count": 55,
   "metadata": {
    "colab_type": "code"
   },
   "outputs": [],
   "source": [
    "import numpy as np\n",
    "import pandas as pd\n",
    "temperature = np.zeros((len(lines),))\n",
    "raw_data = np.zeros((len(lines), len(header) - 1))\n",
    "for i, line in enumerate(lines):\n",
    "    values = [float(x) for x in line.split(\",\")[1:]]\n",
    "    temperature[i] = values[1]\n",
    "    raw_data[i, :] = values[:]"
   ]
  },
  {
   "cell_type": "markdown",
   "metadata": {
    "colab_type": "text"
   },
   "source": [
    "**Plotting the temperature timeseries**"
   ]
  },
  {
   "cell_type": "code",
   "execution_count": 56,
   "metadata": {
    "colab_type": "code"
   },
   "outputs": [
    {
     "data": {
      "text/plain": [
       "[<matplotlib.lines.Line2D at 0x7f157a0cc850>]"
      ]
     },
     "execution_count": 56,
     "metadata": {},
     "output_type": "execute_result"
    },
    {
     "data": {
      "image/png": "[encoded data removed]",
      "text/plain": [
       "<Figure size 432x288 with 1 Axes>"
      ]
     },
     "metadata": {
      "needs_background": "light"
     },
     "output_type": "display_data"
    }
   ],
   "source": [
    "from matplotlib import pyplot as plt\n",
    "plt.plot(range(len(temperature)), temperature)"
   ]
  },
  {
   "cell_type": "markdown",
   "metadata": {
    "colab_type": "text"
   },
   "source": [
    "**Plotting the first 10 days of the temperature timeseries**"
   ]
  },
  {
   "cell_type": "code",
   "execution_count": 57,
   "metadata": {
    "colab_type": "code"
   },
   "outputs": [
    {
     "data": {
      "text/plain": [
       "[<matplotlib.lines.Line2D at 0x7f15788d58b0>]"
      ]
     },
     "execution_count": 57,
     "metadata": {},
     "output_type": "execute_result"
    },
    {
     "data": {
      "image/png": "[encoded data removed]",
      "text/plain": [
       "<Figure size 432x288 with 1 Axes>"
      ]
     },
     "metadata": {
      "needs_background": "light"
     },
     "output_type": "display_data"
    }
   ],
   "source": [
    "# WHAT IS THE PREDICTION PROBLEM WE'RE TRYING TO SOLVE\n",
    "\"\"\"\n",
    "\n",
    "We are trying to predict temperature of days in the future based on the trends/data\n",
    "of the past. This is a regression problem and we will predict on continuous value.\n",
    "\n",
    "\"\"\"\n",
    "plt.plot(range(1440), temperature[:1440])"
   ]
  },
  {
   "cell_type": "markdown",
   "metadata": {
    "colab_type": "text"
   },
   "source": [
    "**Computing the number of samples we'll use for each data split**"
   ]
  },
  {
   "cell_type": "code",
   "execution_count": 58,
   "metadata": {
    "colab_type": "code"
   },
   "outputs": [
    {
     "name": "stdout",
     "output_type": "stream",
     "text": [
      "num_train_samples: 210225\n",
      "num_val_samples: 105112\n",
      "num_test_samples: 105114\n"
     ]
    }
   ],
   "source": [
    "num_train_samples = int(0.5 * len(raw_data))\n",
    "num_val_samples = int(0.25 * len(raw_data))\n",
    "num_test_samples = len(raw_data) - num_train_samples - num_val_samples\n",
    "print(\"num_train_samples:\", num_train_samples)\n",
    "print(\"num_val_samples:\", num_val_samples)\n",
    "print(\"num_test_samples:\", num_test_samples)"
   ]
  },
  {
   "cell_type": "markdown",
   "metadata": {
    "colab_type": "text"
   },
   "source": [
    "### Preparing the data"
   ]
  },
  {
   "cell_type": "markdown",
   "metadata": {
    "colab_type": "text"
   },
   "source": [
    "**Normalizing the data**"
   ]
  },
  {
   "cell_type": "code",
   "execution_count": 59,
   "metadata": {
    "colab_type": "code"
   },
   "outputs": [
    {
     "data": {
      "text/plain": [
       "'\\n\\nYes we will use the mean and std again, as the prediction we recieved would be\\nnormalized. We would need to use the mean and std again to get it within scale.\\nraw_data = prediction X std + mean.\\n\\n'"
      ]
     },
     "execution_count": 59,
     "metadata": {},
     "output_type": "execute_result"
    }
   ],
   "source": [
    "mean = raw_data[:num_train_samples].mean(axis=0)\n",
    "raw_data -= mean\n",
    "std = raw_data[:num_train_samples].std(axis=0)\n",
    "raw_data /= std\n",
    "\n",
    "# WHY DIDN'T WE DO THIS FOR THE VALIDATION AND TEST DATA AS WELL?\n",
    "\n",
    "\"\"\"\n",
    "\n",
    "Normalization changes the magnitude of the 'n' dimentional hypothetical\n",
    "vector a sample represents, but not its direction/orientation.\n",
    "With normalization, we can make the range of data similar for the all the\n",
    "features of the dataset. This symmetric data help a model train better but has very\n",
    "little scope and use past the training process. Normalization of test and\n",
    "validation data would work and provide us with the same results, but is unnecessary.\n",
    "\n",
    "\"\"\"\n",
    "\n",
    "# WILL WE USE mean AND std AGAIN LATER, AND IF SO, HOW?\n",
    "\n",
    "\"\"\"\n",
    "\n",
    "Yes we will use the mean and std again, as the prediction we recieved would be\n",
    "normalized. We would need to use the mean and std again to get it within scale.\n",
    "raw_data = prediction X std + mean.\n",
    "\n",
    "\"\"\""
   ]
  },
  {
   "cell_type": "code",
   "execution_count": 60,
   "metadata": {
    "colab_type": "code"
   },
   "outputs": [
    {
     "name": "stdout",
     "output_type": "stream",
     "text": [
      "tf.Tensor(\n",
      "[[0 1 2]\n",
      " [1 2 3]], shape=(2, 3), dtype=int64)\n",
      "[0, 1, 2] 3\n",
      "[1, 2, 3] 4\n",
      "tf.Tensor(\n",
      "[[2 3 4]\n",
      " [3 4 5]], shape=(2, 3), dtype=int64)\n",
      "[2, 3, 4] 5\n",
      "[3, 4, 5] 6\n",
      "tf.Tensor([[4 5 6]], shape=(1, 3), dtype=int64)\n",
      "[4, 5, 6] 7\n"
     ]
    }
   ],
   "source": [
    "import numpy as np\n",
    "from tensorflow import keras\n",
    "int_sequence = np.arange(10)\n",
    "\n",
    "# WHY IS OUR AUTHOR GENERATING AN INTEGER SEQUENCE FROM 0..9?\n",
    "\n",
    "\"\"\"\n",
    "\n",
    "The author just wanted to show us the use of the timesries_dataset_from_array utility works.\n",
    "So, he generated a simple numpy array for this purpose.\n",
    "\n",
    "\"\"\"\n",
    "\n",
    "dummy_dataset = keras.utils.timeseries_dataset_from_array(\n",
    "    data=int_sequence[:-3],\n",
    "    targets=int_sequence[3:],\n",
    "    sequence_length=3,\n",
    "    batch_size=2,\n",
    ")\n",
    "\n",
    "for inputs, targets in dummy_dataset:\n",
    "    print(inputs)\n",
    "    for i in range(inputs.shape[0]):\n",
    "        print([int(x) for x in inputs[i]], int(targets[i]))"
   ]
  },
  {
   "cell_type": "markdown",
   "metadata": {
    "colab_type": "text"
   },
   "source": [
    "**Instantiating datasets for training, validation, and testing**"
   ]
  },
  {
   "cell_type": "code",
   "execution_count": 61,
   "metadata": {
    "colab_type": "code"
   },
   "outputs": [],
   "source": [
    "sampling_rate = 6\n",
    "sequence_length = 120\n",
    "delay = sampling_rate * (sequence_length + 24 - 1)\n",
    "batch_size = 256\n",
    "\n",
    "train_dataset = keras.utils.timeseries_dataset_from_array(\n",
    "    raw_data[:-delay],\n",
    "    targets=temperature[delay:],\n",
    "    sampling_rate=sampling_rate,\n",
    "    sequence_length=sequence_length,\n",
    "    shuffle=True,\n",
    "    batch_size=batch_size,\n",
    "    start_index=0,\n",
    "    end_index=num_train_samples)\n",
    "\n",
    "val_dataset = keras.utils.timeseries_dataset_from_array(\n",
    "    raw_data[:-delay],\n",
    "    targets=temperature[delay:],\n",
    "    sampling_rate=sampling_rate,\n",
    "    sequence_length=sequence_length,\n",
    "    shuffle=True,\n",
    "    batch_size=batch_size,\n",
    "    start_index=num_train_samples,\n",
    "    end_index=num_train_samples + num_val_samples)\n",
    "\n",
    "test_dataset = keras.utils.timeseries_dataset_from_array(\n",
    "    raw_data[:-delay],\n",
    "    targets=temperature[delay:],\n",
    "    sampling_rate=sampling_rate,\n",
    "    sequence_length=sequence_length,\n",
    "    shuffle=True,\n",
    "    batch_size=batch_size,\n",
    "    start_index=num_train_samples + num_val_samples)"
   ]
  },
  {
   "cell_type": "markdown",
   "metadata": {
    "colab_type": "text"
   },
   "source": [
    "**Inspecting the output of one of our datasets**"
   ]
  },
  {
   "cell_type": "code",
   "execution_count": 62,
   "metadata": {
    "colab_type": "code",
    "scrolled": true
   },
   "outputs": [
    {
     "name": "stdout",
     "output_type": "stream",
     "text": [
      "samples shape: (256, 120, 14)\n",
      "targets shape: (256,)\n"
     ]
    },
    {
     "data": {
      "text/plain": [
       "'\\n\\nThe data contains 14 features. It contains timeseries data for 5 days or 5x24 = 120 hours.\\nEach batch contains 256 samples.\\n\\n'"
      ]
     },
     "execution_count": 62,
     "metadata": {},
     "output_type": "execute_result"
    }
   ],
   "source": [
    "for samples, targets in train_dataset:\n",
    "    print(\"samples shape:\", samples.shape)\n",
    "    print(\"targets shape:\", targets.shape)\n",
    "    break\n",
    "    \n",
    "# WHAT IF WE LEAVE OUT THE BREAK?\n",
    "\n",
    "\"\"\"\n",
    " \n",
    "The \"break\" stops the loop after the first iteration. Leaving it in would make it iterate over the entire dataset.\n",
    " \n",
    " \"\"\"\n",
    "\n",
    "# WHY DOES OUR DATA HAVE THIS SHAPE?  WHAT'S ALONG EACH OF THE AXES?\n",
    "\n",
    "\"\"\"\n",
    "\n",
    "The data contains 14 features. It contains timeseries data for 5 days or 5x24 = 120 hours.\n",
    "Each batch contains 256 samples.\n",
    "\n",
    "\"\"\""
   ]
  },
  {
   "cell_type": "markdown",
   "metadata": {
    "colab_type": "text"
   },
   "source": [
    "### A common-sense, non-machine-learning baseline"
   ]
  },
  {
   "cell_type": "markdown",
   "metadata": {
    "colab_type": "text"
   },
   "source": [
    "**Computing the common-sense baseline MAE**"
   ]
  },
  {
   "cell_type": "code",
   "execution_count": 63,
   "metadata": {
    "colab_type": "code"
   },
   "outputs": [
    {
     "name": "stdout",
     "output_type": "stream",
     "text": [
      "104393\n",
      "Validation MAE: 2.44\n",
      "103537\n",
      "Test MAE: 2.62\n"
     ]
    },
    {
     "data": {
      "text/plain": [
       "'\\n\\nMAE stands for Mean Absolute Error. Its units are whatever the targets units are.\\nIn this case, its degrees Celsius\\n\\n'"
      ]
     },
     "execution_count": 63,
     "metadata": {},
     "output_type": "execute_result"
    }
   ],
   "source": [
    "def evaluate_naive_method(dataset):\n",
    "    total_abs_err = 0.\n",
    "    samples_seen = 0\n",
    "    for samples, targets in dataset:\n",
    "        preds = samples[:, -1, 1] * std[1] + mean[1]\n",
    "        total_abs_err += np.sum(np.abs(preds - targets))\n",
    "        samples_seen += samples.shape[0]\n",
    "#         print(samples.shape[0])\n",
    "    print(samples_seen)\n",
    "    return total_abs_err / samples_seen\n",
    "\n",
    "print(f\"Validation MAE: {evaluate_naive_method(val_dataset):.2f}\")\n",
    "print(f\"Test MAE: {evaluate_naive_method(test_dataset):.2f}\")\n",
    "\n",
    "# EXPLAIN WHAT THE NAIVE METHOD IS DOING.\n",
    "\n",
    "\"\"\"\n",
    "\n",
    "Its generating a baseline predictive model. With out any actual machine learning model for training,\n",
    "we just wanted to know how a simple mathematical operation predicts on our dataset. Then we will\n",
    "compare this predition with the predition of our machine learning model to know how good our machine\n",
    "learning model is doing.\n",
    "\n",
    "\"\"\"\n",
    "\n",
    "# WHAT IS MAE? wHAT ARE ITS UNITS?\n",
    "\n",
    "\"\"\"\n",
    "\n",
    "MAE stands for Mean Absolute Error. Its units are whatever the targets units are.\n",
    "In this case, its degrees Celsius\n",
    "\n",
    "\"\"\""
   ]
  },
  {
   "cell_type": "markdown",
   "metadata": {
    "colab_type": "text"
   },
   "source": [
    "### Let's try a basic machine-learning model"
   ]
  },
  {
   "cell_type": "markdown",
   "metadata": {
    "colab_type": "text"
   },
   "source": [
    "**Training and evaluating a densely connected model**"
   ]
  },
  {
   "cell_type": "code",
   "execution_count": 64,
   "metadata": {
    "colab_type": "code"
   },
   "outputs": [
    {
     "name": "stdout",
     "output_type": "stream",
     "text": [
      "Epoch 1/10\n",
      "819/819 [==============================] - 32s 38ms/step - loss: 17.5724 - mae: 3.2158 - val_loss: 11.9382 - val_mae: 2.7296\n",
      "Epoch 2/10\n",
      "819/819 [==============================] - 33s 40ms/step - loss: 9.8833 - mae: 2.4697 - val_loss: 10.9302 - val_mae: 2.6166\n",
      "Epoch 3/10\n",
      "819/819 [==============================] - 30s 36ms/step - loss: 8.8774 - mae: 2.3424 - val_loss: 11.0042 - val_mae: 2.6384\n",
      "Epoch 4/10\n",
      "819/819 [==============================] - 27s 33ms/step - loss: 8.3127 - mae: 2.2700 - val_loss: 12.5438 - val_mae: 2.8164\n",
      "Epoch 5/10\n",
      "819/819 [==============================] - 39s 48ms/step - loss: 7.9615 - mae: 2.2208 - val_loss: 10.5693 - val_mae: 2.5786\n",
      "Epoch 6/10\n",
      "819/819 [==============================] - 29s 36ms/step - loss: 7.6907 - mae: 2.1820 - val_loss: 12.2805 - val_mae: 2.7581\n",
      "Epoch 7/10\n",
      "819/819 [==============================] - 31s 38ms/step - loss: 7.4720 - mae: 2.1534 - val_loss: 11.7412 - val_mae: 2.7095\n",
      "Epoch 8/10\n",
      "819/819 [==============================] - 32s 38ms/step - loss: 7.2580 - mae: 2.1220 - val_loss: 13.8646 - val_mae: 2.9560\n",
      "Epoch 9/10\n",
      "819/819 [==============================] - 36s 43ms/step - loss: 7.1261 - mae: 2.1022 - val_loss: 10.9808 - val_mae: 2.6213\n",
      "Epoch 10/10\n",
      "819/819 [==============================] - 39s 47ms/step - loss: 6.9777 - mae: 2.0799 - val_loss: 10.7228 - val_mae: 2.5931\n",
      "405/405 [==============================] - 8s 19ms/step - loss: 11.6963 - mae: 2.6910\n",
      "Test MAE: 2.69\n"
     ]
    }
   ],
   "source": [
    "from tensorflow import keras\n",
    "from tensorflow.keras import layers\n",
    "\n",
    "inputs = keras.Input(shape=(sequence_length, raw_data.shape[-1]))\n",
    "x = layers.Flatten()(inputs)\n",
    "x = layers.Dense(16, activation=\"relu\")(x)\n",
    "outputs = layers.Dense(1)(x)\n",
    "model = keras.Model(inputs, outputs)\n",
    "\n",
    "# WHAT DOES THIS MODEL LOOK LIKE? \n",
    "\n",
    "\"\"\"\n",
    "\n",
    "This model consists of an  input layer, a Hidden Dense Layer and with an Output Dense\n",
    "layer. The hiddden layer has a ReLU activation function and the output Dense layer does not\n",
    "have any avctivation function as we are working with regression problem.\n",
    "\n",
    "\"\"\"\n",
    "\n",
    "# WHY DOESN'T THE LAST LAYER HAVE AN ACTIVATION FUNCTION?\n",
    "\n",
    "\"\"\"\n",
    "\n",
    "Its because we are looking for a regression like output, and not one thats constrained.\n",
    "We will predict continuous value, not some discrete label.\n",
    "\n",
    "\"\"\"\n",
    "\n",
    "# DOES THE FACT THAT TWO SEQUENTIAL TIMES ARE NEXT TO EACH OTHER IN THE INPUT STILL MATTER HERE?  WHY OR WHY NOT?\n",
    "\n",
    "\"\"\" \n",
    "\n",
    "I think it don't think it matters as from the Machine Learning Model's standpoint, \n",
    "it just looks like another sample with no relation to the next or previous.\n",
    "\n",
    "\"\"\"\n",
    "\n",
    "callbacks = [\n",
    "    keras.callbacks.ModelCheckpoint(\"jena_dense.keras\",\n",
    "                                    save_best_only=True)\n",
    "]\n",
    "\n",
    "# WHAT'S THIS CALLBACK DOING FOR US?\n",
    "\n",
    "\"\"\"\n",
    "\n",
    "In out training phase, we will overfit the model after certain epochs.\n",
    "Our model will perform best before the overfitting point. Callback is\n",
    "used to save only the best performing model during this training phase.\n",
    "\n",
    "\"\"\"\n",
    "\n",
    "model.compile(optimizer=\"rmsprop\", loss=\"mse\", metrics=[\"mae\"])\n",
    "history = model.fit(train_dataset,\n",
    "                    epochs=10,\n",
    "                    validation_data=val_dataset,\n",
    "                    callbacks=callbacks)\n",
    "\n",
    "model = keras.models.load_model(\"jena_dense.keras\")\n",
    "print(f\"Test MAE: {model.evaluate(test_dataset)[1]:.2f}\")"
   ]
  },
  {
   "cell_type": "markdown",
   "metadata": {
    "colab_type": "text"
   },
   "source": [
    "**Plotting results**"
   ]
  },
  {
   "cell_type": "code",
   "execution_count": 65,
   "metadata": {
    "colab_type": "code"
   },
   "outputs": [
    {
     "data": {
      "image/png": "[encoded data removed]",
      "text/plain": [
       "<Figure size 432x288 with 1 Axes>"
      ]
     },
     "metadata": {
      "needs_background": "light"
     },
     "output_type": "display_data"
    },
    {
     "data": {
      "text/plain": [
       "'\\n\\nThe shape of the validation error indicates that the model is overfitting.\\n\\n'"
      ]
     },
     "execution_count": 65,
     "metadata": {},
     "output_type": "execute_result"
    }
   ],
   "source": [
    "import matplotlib.pyplot as plt\n",
    "loss = history.history[\"mae\"]\n",
    "val_loss = history.history[\"val_mae\"]\n",
    "epochs = range(1, len(loss) + 1)\n",
    "plt.figure()\n",
    "plt.plot(epochs, loss, \"bo\", label=\"Training MAE\")\n",
    "plt.plot(epochs, val_loss, \"b\", label=\"Validation MAE\")\n",
    "plt.title(\"Training and validation MAE\")\n",
    "plt.legend()\n",
    "plt.show()\n",
    "\n",
    "# IS THIS METHOD WORKING BETTER OR WORSE THAN THE BASELINE METHOD? (HINT: LOOK AT VALIDATION)\n",
    "\n",
    "\"\"\"\n",
    "\n",
    "The gap between validation Train MAE and Validation MAE is larger than the baseline method.\n",
    "This is worse than our baseline random model.\n",
    "\n",
    "\"\"\"\n",
    "\n",
    "# WHAT DOES THIS SHAPE OF VALIDATION ERROR INDICATE?\n",
    "\n",
    "\"\"\"\n",
    "\n",
    "The shape of the validation error indicates that the model is overfitting.\n",
    "\n",
    "\"\"\""
   ]
  },
  {
   "cell_type": "markdown",
   "metadata": {
    "colab_type": "text"
   },
   "source": [
    "### Let's try a 1D convolutional model"
   ]
  },
  {
   "cell_type": "code",
   "execution_count": 47,
   "metadata": {
    "colab_type": "code"
   },
   "outputs": [
    {
     "name": "stdout",
     "output_type": "stream",
     "text": [
      "Epoch 1/10\n",
      "819/819 [==============================] - 41s 49ms/step - loss: 20.4732 - mae: 3.5439 - val_loss: 15.1646 - val_mae: 3.0573\n",
      "Epoch 2/10\n",
      "819/819 [==============================] - 42s 51ms/step - loss: 14.9753 - mae: 3.0727 - val_loss: 15.1339 - val_mae: 3.0894\n",
      "Epoch 3/10\n",
      "819/819 [==============================] - 40s 49ms/step - loss: 13.8461 - mae: 2.9454 - val_loss: 14.3999 - val_mae: 2.9935\n",
      "Epoch 4/10\n",
      "819/819 [==============================] - 35s 42ms/step - loss: 13.0528 - mae: 2.8518 - val_loss: 14.4395 - val_mae: 3.0102\n",
      "Epoch 5/10\n",
      "819/819 [==============================] - 45s 55ms/step - loss: 12.4913 - mae: 2.7899 - val_loss: 14.1228 - val_mae: 2.9695\n",
      "Epoch 6/10\n",
      "819/819 [==============================] - 39s 47ms/step - loss: 12.0213 - mae: 2.7367 - val_loss: 13.5130 - val_mae: 2.8930\n",
      "Epoch 7/10\n",
      "819/819 [==============================] - 43s 52ms/step - loss: 11.6013 - mae: 2.6884 - val_loss: 15.1183 - val_mae: 3.0516\n",
      "Epoch 8/10\n",
      "819/819 [==============================] - 39s 48ms/step - loss: 11.3077 - mae: 2.6546 - val_loss: 13.4515 - val_mae: 2.8830\n",
      "Epoch 9/10\n",
      "819/819 [==============================] - 41s 49ms/step - loss: 10.9977 - mae: 2.6201 - val_loss: 16.7095 - val_mae: 3.2396\n",
      "Epoch 10/10\n",
      "819/819 [==============================] - 39s 47ms/step - loss: 10.7217 - mae: 2.5846 - val_loss: 14.9959 - val_mae: 3.0383\n",
      "405/405 [==============================] - 11s 27ms/step - loss: 15.2755 - mae: 3.1142\n",
      "Test MAE: 3.11\n"
     ]
    },
    {
     "data": {
      "text/plain": [
       "'\\n\\nThis model performs even worse than the densely connected one and the baseline model.\\n\\n'"
      ]
     },
     "execution_count": 47,
     "metadata": {},
     "output_type": "execute_result"
    }
   ],
   "source": [
    "# IF I HAD AN INPUT SEQUENCE OF [1,2,3,0,2,1,3,2,1,2] AND A 1-D CONV MASK OF \n",
    "# [1,0,1], WHAT IS THE CONVOLUTION OUTPUT?\n",
    "\n",
    "'''\n",
    "Here, if we map the sequence with mask, we will get:\n",
    "1 * 1 + 0 * 2 + 1 * 3 = 4\n",
    "1 * 2 + 0 * 3 + 1 * 0 = 2\n",
    "1 * 3 + 0 * 0 + 1 * 2 = 5\n",
    "1 * 0 + 0 * 2 + 1 * 1 = 1\n",
    "1 * 2 + 0 * 1 + 1 * 3 = 5\n",
    "1 * 1 + 0 * 3 + 1 * 2 = 3\n",
    "1 * 3 + 0 * 2 + 1 * 1 = 4\n",
    "1 * 2 + 0 * 1 + 1 * 2 = 4\n",
    "\n",
    "The output will be [4, 2, 5, 1, 5, 3, 4, 4]\n",
    "\n",
    "'''\n",
    "\n",
    "inputs = keras.Input(shape=(sequence_length, raw_data.shape[-1]))\n",
    "x = layers.Conv1D(8, 24, activation=\"relu\")(inputs)\n",
    "x = layers.MaxPooling1D(2)(x)\n",
    "x = layers.Conv1D(8, 12, activation=\"relu\")(x)\n",
    "x = layers.MaxPooling1D(2)(x)\n",
    "x = layers.Conv1D(8, 6, activation=\"relu\")(x)\n",
    "x = layers.GlobalAveragePooling1D()(x)\n",
    "outputs = layers.Dense(1)(x)\n",
    "model = keras.Model(inputs, outputs)\n",
    "\n",
    "# LOOK UP GLOBAL AVERAGE POOLING AND TRY TO FIGURE OUT WHAT IT IS.\n",
    "\n",
    "\"\"\"\n",
    "\n",
    "The global average pooling (GAP) layers are used to minimize overfitting by reducing\n",
    "the total number of parameters in the model. Similar to max pooling layers, GAP layers\n",
    "are used to reduce the spatial dimensions of a three-dimensional tensor. Even so, GAP\n",
    "layers perform a more extreme type of dimensionality reduction, where a tensor with\n",
    "dimensions H X W x L is reduced in size to have dimensions 1 X 1 X L. GAP layers reduce\n",
    "each H X W feature map to a single number by simply taking the average of all HW values.\n",
    "\n",
    "\"\"\"\n",
    "\n",
    "callbacks = [\n",
    "    keras.callbacks.ModelCheckpoint(\"jena_conv.keras\",\n",
    "                                    save_best_only=True)\n",
    "]\n",
    "model.compile(optimizer=\"rmsprop\", loss=\"mse\", metrics=[\"mae\"])\n",
    "history = model.fit(train_dataset,\n",
    "                    epochs=10,\n",
    "                    validation_data=val_dataset,\n",
    "                    callbacks=callbacks)\n",
    "\n",
    "model = keras.models.load_model(\"jena_conv.keras\")\n",
    "print(f\"Test MAE: {model.evaluate(test_dataset)[1]:.2f}\")\n",
    "\n",
    "# IS THIS METHOD WORKING BETTER OR WORSE THAN THE BASELINE METHOD? (HINT: LOOK AT VALIDATION)\n",
    "\n",
    "\"\"\"\n",
    "\n",
    "This model performs even worse than the densely connected one and the baseline model.\n",
    "\n",
    "\"\"\""
   ]
  },
  {
   "cell_type": "code",
   "execution_count": 48,
   "metadata": {},
   "outputs": [
    {
     "data": {
      "image/png": "[encoded data removed]",
      "text/plain": [
       "<Figure size 432x288 with 1 Axes>"
      ]
     },
     "metadata": {
      "needs_background": "light"
     },
     "output_type": "display_data"
    },
    {
     "data": {
      "text/plain": [
       "'\\n\\nSince this is a time series data, the features change with respect to time.\\nEach samples are connected the past sample. The past data is informative for\\npredidcting the future data. In our Conv1D model, we used max pooling and\\nglobal average pooling layers and those layers largely destroyed the order\\ninformation of our time series data. So, lack of proper data representation\\nlead to such shape for validation error.\\n\\n'"
      ]
     },
     "execution_count": 48,
     "metadata": {},
     "output_type": "execute_result"
    }
   ],
   "source": [
    "import matplotlib.pyplot as plt\n",
    "loss = history.history[\"mae\"]\n",
    "val_loss = history.history[\"val_mae\"]\n",
    "epochs = range(1, len(loss) + 1)\n",
    "plt.figure()\n",
    "plt.plot(epochs, loss, \"bo\", label=\"Training MAE\")\n",
    "plt.plot(epochs, val_loss, \"b\", label=\"Validation MAE\")\n",
    "plt.title(\"Training and validation MAE\")\n",
    "plt.legend()\n",
    "plt.show()\n",
    "\n",
    "# IS THIS METHOD WORKING BETTER OR WORSE THAN THE BASELINE METHOD? (HINT: LOOK AT VALIDATION)\n",
    "\n",
    "\"\"\"\n",
    "\n",
    "This model performs even worse than the densely connected one and the baseline model.\n",
    "\n",
    "\"\"\"\n",
    "\n",
    "# WHAT DOES THIS SHAPE OF VALIDATION ERROR INDICATE?\n",
    "\n",
    "\"\"\"\n",
    "\n",
    "Since this is a time series data, the features change with respect to time.\n",
    "Each samples are connected the past sample. The past data is informative for\n",
    "predidcting the future data. In our Conv1D model, we used max pooling and\n",
    "global average pooling layers and those layers largely destroyed the order\n",
    "information of our time series data. So, lack of proper data representation\n",
    "lead to such shape for validation error.\n",
    "\n",
    "\"\"\""
   ]
  },
  {
   "cell_type": "markdown",
   "metadata": {
    "colab_type": "text"
   },
   "source": [
    "### A first recurrent baseline"
   ]
  },
  {
   "cell_type": "markdown",
   "metadata": {
    "colab_type": "text"
   },
   "source": [
    "**A simple LSTM-based model**"
   ]
  },
  {
   "cell_type": "code",
   "execution_count": 17,
   "metadata": {
    "colab_type": "code"
   },
   "outputs": [
    {
     "name": "stdout",
     "output_type": "stream",
     "text": [
      "Epoch 1/10\n",
      "819/819 [==============================] - 36s 42ms/step - loss: 38.8734 - mae: 4.5383 - val_loss: 12.1615 - val_mae: 2.6704\n",
      "Epoch 2/10\n",
      "819/819 [==============================] - 36s 44ms/step - loss: 11.0061 - mae: 2.5768 - val_loss: 9.6554 - val_mae: 2.4225\n",
      "Epoch 3/10\n",
      "819/819 [==============================] - 38s 46ms/step - loss: 9.8881 - mae: 2.4516 - val_loss: 9.6029 - val_mae: 2.4119\n",
      "Epoch 4/10\n",
      "819/819 [==============================] - 39s 47ms/step - loss: 9.3990 - mae: 2.3892 - val_loss: 9.8647 - val_mae: 2.4383\n",
      "Epoch 5/10\n",
      "819/819 [==============================] - 38s 47ms/step - loss: 9.0907 - mae: 2.3484 - val_loss: 9.9189 - val_mae: 2.4464\n",
      "Epoch 6/10\n",
      "819/819 [==============================] - 38s 46ms/step - loss: 8.8371 - mae: 2.3111 - val_loss: 10.1171 - val_mae: 2.4691\n",
      "Epoch 7/10\n",
      "819/819 [==============================] - 45s 55ms/step - loss: 8.6601 - mae: 2.2835 - val_loss: 9.8708 - val_mae: 2.4414\n",
      "Epoch 8/10\n",
      "819/819 [==============================] - 49s 59ms/step - loss: 8.4924 - mae: 2.2588 - val_loss: 9.8518 - val_mae: 2.4403\n",
      "Epoch 9/10\n",
      "819/819 [==============================] - 47s 57ms/step - loss: 8.3347 - mae: 2.2325 - val_loss: 9.9281 - val_mae: 2.4515\n",
      "Epoch 10/10\n",
      "819/819 [==============================] - 47s 57ms/step - loss: 8.1863 - mae: 2.2103 - val_loss: 10.0534 - val_mae: 2.4610\n",
      "405/405 [==============================] - 11s 25ms/step - loss: 10.6876 - mae: 2.5488\n",
      "Test MAE: 2.55\n"
     ]
    }
   ],
   "source": [
    "inputs = keras.Input(shape=(sequence_length, raw_data.shape[-1]))\n",
    "x = layers.LSTM(16)(inputs)\n",
    "outputs = layers.Dense(1)(x)\n",
    "model = keras.Model(inputs, outputs)\n",
    "\n",
    "callbacks = [\n",
    "    keras.callbacks.ModelCheckpoint(\"jena_lstm.keras\",\n",
    "                                    save_best_only=True)\n",
    "]\n",
    "model.compile(optimizer=\"rmsprop\", loss=\"mse\", metrics=[\"mae\"])\n",
    "history = model.fit(train_dataset,\n",
    "                    epochs=10,\n",
    "                    validation_data=val_dataset,\n",
    "                    callbacks=callbacks)\n",
    "\n",
    "model = keras.models.load_model(\"jena_lstm.keras\")\n",
    "print(f\"Test MAE: {model.evaluate(test_dataset)[1]:.2f}\")"
   ]
  },
  {
   "cell_type": "markdown",
   "metadata": {
    "colab_type": "text"
   },
   "source": [
    "## Understanding recurrent neural networks"
   ]
  },
  {
   "cell_type": "markdown",
   "metadata": {
    "colab_type": "text"
   },
   "source": [
    "**NumPy implementation of a simple RNN**"
   ]
  },
  {
   "cell_type": "code",
   "execution_count": null,
   "metadata": {
    "colab_type": "code"
   },
   "outputs": [],
   "source": [
    "import numpy as np\n",
    "timesteps = 100\n",
    "input_features = 32\n",
    "output_features = 64\n",
    "inputs = np.random.random((timesteps, input_features))\n",
    "state_t = np.zeros((output_features,))\n",
    "W = np.random.random((output_features, input_features))\n",
    "U = np.random.random((output_features, output_features))\n",
    "b = np.random.random((output_features,))\n",
    "successive_outputs = []\n",
    "for input_t in inputs:\n",
    "    output_t = np.tanh(np.dot(W, input_t) + np.dot(U, state_t) + b)\n",
    "    successive_outputs.append(output_t)\n",
    "    state_t = output_t\n",
    "final_output_sequence = np.stack(successive_outputs, axis=0)"
   ]
  },
  {
   "cell_type": "markdown",
   "metadata": {
    "colab_type": "text"
   },
   "source": [
    "### A recurrent layer in Keras"
   ]
  },
  {
   "cell_type": "markdown",
   "metadata": {
    "colab_type": "text"
   },
   "source": [
    "**An RNN layer that can process sequences of any length**"
   ]
  },
  {
   "cell_type": "code",
   "execution_count": null,
   "metadata": {
    "colab_type": "code"
   },
   "outputs": [],
   "source": [
    "num_features = 14\n",
    "inputs = keras.Input(shape=(None, num_features))\n",
    "outputs = layers.SimpleRNN(16)(inputs)"
   ]
  },
  {
   "cell_type": "markdown",
   "metadata": {
    "colab_type": "text"
   },
   "source": [
    "**An RNN layer that returns only its last output step**"
   ]
  },
  {
   "cell_type": "code",
   "execution_count": null,
   "metadata": {
    "colab_type": "code"
   },
   "outputs": [],
   "source": [
    "num_features = 14\n",
    "steps = 120\n",
    "inputs = keras.Input(shape=(steps, num_features))\n",
    "outputs = layers.SimpleRNN(16, return_sequences=False)(inputs)\n",
    "print(outputs.shape)"
   ]
  },
  {
   "cell_type": "markdown",
   "metadata": {
    "colab_type": "text"
   },
   "source": [
    "**An RNN layer that returns its full output sequence**"
   ]
  },
  {
   "cell_type": "code",
   "execution_count": null,
   "metadata": {
    "colab_type": "code"
   },
   "outputs": [],
   "source": [
    "num_features = 14\n",
    "steps = 120\n",
    "inputs = keras.Input(shape=(steps, num_features))\n",
    "outputs = layers.SimpleRNN(16, return_sequences=True)(inputs)\n",
    "print(outputs.shape)"
   ]
  },
  {
   "cell_type": "markdown",
   "metadata": {
    "colab_type": "text"
   },
   "source": [
    "**Stacking RNN layers**"
   ]
  },
  {
   "cell_type": "code",
   "execution_count": null,
   "metadata": {
    "colab_type": "code"
   },
   "outputs": [],
   "source": [
    "inputs = keras.Input(shape=(steps, num_features))\n",
    "x = layers.SimpleRNN(16, return_sequences=True)(inputs)\n",
    "x = layers.SimpleRNN(16, return_sequences=True)(x)\n",
    "outputs = layers.SimpleRNN(16)(x)"
   ]
  },
  {
   "cell_type": "markdown",
   "metadata": {
    "colab_type": "text"
   },
   "source": [
    "## Advanced use of recurrent neural networks"
   ]
  },
  {
   "cell_type": "markdown",
   "metadata": {
    "colab_type": "text"
   },
   "source": [
    "### Using recurrent dropout to fight overfitting"
   ]
  },
  {
   "cell_type": "markdown",
   "metadata": {
    "colab_type": "text"
   },
   "source": [
    "**Training and evaluating a dropout-regularized LSTM**"
   ]
  },
  {
   "cell_type": "code",
   "execution_count": null,
   "metadata": {
    "colab_type": "code"
   },
   "outputs": [],
   "source": [
    "inputs = keras.Input(shape=(sequence_length, raw_data.shape[-1]))\n",
    "x = layers.LSTM(32, recurrent_dropout=0.25)(inputs)\n",
    "x = layers.Dropout(0.5)(x)\n",
    "outputs = layers.Dense(1)(x)\n",
    "model = keras.Model(inputs, outputs)\n",
    "\n",
    "callbacks = [\n",
    "    keras.callbacks.ModelCheckpoint(\"jena_lstm_dropout.keras\",\n",
    "                                    save_best_only=True)\n",
    "]\n",
    "model.compile(optimizer=\"rmsprop\", loss=\"mse\", metrics=[\"mae\"])\n",
    "history = model.fit(train_dataset,\n",
    "                    epochs=50,\n",
    "                    validation_data=val_dataset,\n",
    "                    callbacks=callbacks)"
   ]
  },
  {
   "cell_type": "code",
   "execution_count": null,
   "metadata": {
    "colab_type": "code"
   },
   "outputs": [],
   "source": [
    "inputs = keras.Input(shape=(sequence_length, num_features))\n",
    "x = layers.LSTM(32, recurrent_dropout=0.2, unroll=True)(inputs)"
   ]
  },
  {
   "cell_type": "markdown",
   "metadata": {
    "colab_type": "text"
   },
   "source": [
    "### Stacking recurrent layers"
   ]
  },
  {
   "cell_type": "markdown",
   "metadata": {
    "colab_type": "text"
   },
   "source": [
    "**Training and evaluating a dropout-regularized, stacked GRU model**"
   ]
  },
  {
   "cell_type": "code",
   "execution_count": null,
   "metadata": {
    "colab_type": "code"
   },
   "outputs": [],
   "source": [
    "inputs = keras.Input(shape=(sequence_length, raw_data.shape[-1]))\n",
    "x = layers.GRU(32, recurrent_dropout=0.5, return_sequences=True)(inputs)\n",
    "x = layers.GRU(32, recurrent_dropout=0.5)(x)\n",
    "x = layers.Dropout(0.5)(x)\n",
    "outputs = layers.Dense(1)(x)\n",
    "model = keras.Model(inputs, outputs)\n",
    "\n",
    "callbacks = [\n",
    "    keras.callbacks.ModelCheckpoint(\"jena_stacked_gru_dropout.keras\",\n",
    "                                    save_best_only=True)\n",
    "]\n",
    "model.compile(optimizer=\"rmsprop\", loss=\"mse\", metrics=[\"mae\"])\n",
    "history = model.fit(train_dataset,\n",
    "                    epochs=50,\n",
    "                    validation_data=val_dataset,\n",
    "                    callbacks=callbacks)\n",
    "model = keras.models.load_model(\"jena_stacked_gru_dropout.keras\")\n",
    "print(f\"Test MAE: {model.evaluate(test_dataset)[1]:.2f}\")"
   ]
  },
  {
   "cell_type": "markdown",
   "metadata": {
    "colab_type": "text"
   },
   "source": [
    "### Using bidirectional RNNs"
   ]
  },
  {
   "cell_type": "markdown",
   "metadata": {
    "colab_type": "text"
   },
   "source": [
    "**Training and evaluating a bidirectional LSTM**"
   ]
  },
  {
   "cell_type": "code",
   "execution_count": null,
   "metadata": {
    "colab_type": "code"
   },
   "outputs": [],
   "source": [
    "inputs = keras.Input(shape=(sequence_length, raw_data.shape[-1]))\n",
    "x = layers.Bidirectional(layers.LSTM(16))(inputs)\n",
    "outputs = layers.Dense(1)(x)\n",
    "model = keras.Model(inputs, outputs)\n",
    "\n",
    "model.compile(optimizer=\"rmsprop\", loss=\"mse\", metrics=[\"mae\"])\n",
    "history = model.fit(train_dataset,\n",
    "                    epochs=10,\n",
    "                    validation_data=val_dataset)"
   ]
  },
  {
   "cell_type": "markdown",
   "metadata": {
    "colab_type": "text"
   },
   "source": [
    "### Going even further"
   ]
  },
  {
   "cell_type": "markdown",
   "metadata": {
    "colab_type": "text"
   },
   "source": [
    "## Summary"
   ]
  }
 ],
 "metadata": {
  "colab": {
   "collapsed_sections": [],
   "name": "chapter10_dl-for-timeseries.i",
   "private_outputs": false,
   "provenance": [],
   "toc_visible": true
  },
  "kernelspec": {
   "display_name": "Python 3 (ipykernel)",
   "language": "python",
   "name": "python3"
  },
  "language_info": {
   "codemirror_mode": {
    "name": "ipython",
    "version": 3
   },
   "file_extension": ".py",
   "mimetype": "text/x-python",
   "name": "python",
   "nbconvert_exporter": "python",
   "pygments_lexer": "ipython3",
   "version": "3.9.13"
  }
 },
 "nbformat": 4,
 "nbformat_minor": 1
}
